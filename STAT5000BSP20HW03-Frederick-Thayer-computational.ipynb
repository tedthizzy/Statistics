{
 "cells": [
  {
   "cell_type": "markdown",
   "metadata": {},
   "source": [
    "# Homework #3: Computational Questions\n",
    "\n",
    "All computations should be done in this notebook using the R kernel. Working in small groups is allowed, but it is important that you make an effort to master the material and hand in your own work.\n",
    "\n",
    "#### You will be required to submit this notebook, fully compiled with your solutions, as an Jupyter Notebook and as an HTML file to Canvas by 11:59 pm on Thursday, February 13.\n",
    "\n",
    "#### Read and sign the Honor Code Pledge below:\n",
    "\n",
    "**Honor Code Pledge: _On my honor, as a University of Colorado Boulder student, I have neither given nor received unauthorized assistance on this work._**"
   ]
  },
  {
   "cell_type": "markdown",
   "metadata": {},
   "source": [
    "Frederick Mckinley Thayer"
   ]
  },
  {
   "cell_type": "markdown",
   "metadata": {},
   "source": [
    "\n",
    "## Problem 1\n",
    "\n",
    "There is an urn that has 100 marbles in it: 2 are red, 70 are yellow, 13 are green and 15 are blue. In this problem you will simulate data to imitate someone drawing a marble from the urn (replacing after each draw) 1000 times, with the color recorded at each draw (HINT: the ${\\tt sample()}$ function in ${\\tt R}$ will be useful here).\n"
   ]
  },
  {
   "cell_type": "markdown",
   "metadata": {},
   "source": [
    "#### (a) Construct the urn, that is, construct a vector that has 100 entries: 2 red (\"r\"), 70 yellow (\"y\"), 13 green (\"g\"), 15 blue (\"b\")."
   ]
  },
  {
   "cell_type": "code",
   "execution_count": null,
   "metadata": {},
   "outputs": [],
   "source": [
    "urn <- c(rep(\"r\",2), rep(\"y\",70), rep(\"g\",13), rep(\"b\",15))"
   ]
  },
  {
   "cell_type": "markdown",
   "metadata": {},
   "source": [
    "#### (b) Simulate drawing a marble from the urn recording it's color and putting it back $1000$ times, use ${\\tt sample()}$."
   ]
  },
  {
   "cell_type": "code",
   "execution_count": null,
   "metadata": {},
   "outputs": [],
   "source": [
    "urn_sample = sample(urn, size=1000, replace=TRUE)"
   ]
  },
  {
   "cell_type": "markdown",
   "metadata": {},
   "source": [
    "#### (c) Plot the fraction of times a yellow marble is drawn in the first 1000 draws. On the x-axis, include the number of draws, and on the y-axis, include the cumulative fraction of yellow draws. Why does this number fluctuate more when the number of draws is smaller?"
   ]
  },
  {
   "cell_type": "code",
   "execution_count": null,
   "metadata": {},
   "outputs": [],
   "source": [
    "range = 1:1000\n",
    "frac <- c()\n",
    "temp_samp <- c()\n",
    "for (n in range)\n",
    "{\n",
    "  temp_samp <- c(temp_samp, sample(urn, size=1, replace=TRUE))\n",
    "  frac <- c(frac, sum(temp_samp==\"y\")/length(temp_samp))\n",
    "}\n",
    "plot(range,frac, main=\"Cumulative Fraction Yellow\",xlab=\"Number of Draws\", ylab=\"Fraction Yellow\", pch=19)"
   ]
  },
  {
   "cell_type": "markdown",
   "metadata": {},
   "source": [
    "Given the probabalistic nature of the sample selection, there number of yellow marbles drawn is expected to fluctuate. Overtime, each additional draw has less effect due to the increasing divisor in the fraction calculation. With a probability distribution centered at 70% yellow, given infinite time, the plot will perfectly stabalize at the fraction of 0.7."
   ]
  },
  {
   "cell_type": "markdown",
   "metadata": {},
   "source": [
    "#### (d) Repeat part 1(a)-(c) above for the red marble. What do you notice that is different, and why do you think it is different?\n",
    "\n"
   ]
  },
  {
   "cell_type": "code",
   "execution_count": null,
   "metadata": {},
   "outputs": [],
   "source": [
    "range = 1:1000\n",
    "frac <- c()\n",
    "temp_samp <- c()\n",
    "for (n in range)\n",
    "{\n",
    "  temp_samp <- c(temp_samp, sample(urn, size=1, replace=TRUE))\n",
    "  frac <- c(frac, sum(temp_samp==\"r\")/length(temp_samp))\n",
    "}\n",
    "plot(range,frac, main=\"Cumulative Fraction Red\",xlab=\"Number of Draws\", ylab=\"Fraction Red\", pch=19)"
   ]
  },
  {
   "cell_type": "markdown",
   "metadata": {},
   "source": [
    "Jagged, decending lines are observed due to the tiny probability of drawing red. For each additional draw, there is a very low chance of drawing red, causing the decending observation. When a red is drawn, it has a significant impact on the fraction because the total count is so low. As a result, significant jumps are observed after a new red draw. Regardless of this additional volatility, the plot still equilibriates at the expected value of 0.02."
   ]
  },
  {
   "cell_type": "markdown",
   "metadata": {},
   "source": [
    "## Problem 2\n",
    "\n",
    "#### (a) See the help page for the ${\\tt expand.grid()}$ command and use it to simulate the sample space of theoretical question 1(c), in which 3 fair, 6-sided die are rolled."
   ]
  },
  {
   "cell_type": "code",
   "execution_count": null,
   "metadata": {},
   "outputs": [],
   "source": [
    "expand.grid(die1 = 1:6, die2 = 1:6, die3 = 1:6)"
   ]
  },
  {
   "cell_type": "markdown",
   "metadata": {},
   "source": [
    "#### (b) Create a table that displays all possible sum totals of the three dice and how many ways each value can be obtained (for example a sum total of 3 can only be obtained in 1 way). "
   ]
  },
  {
   "cell_type": "code",
   "execution_count": null,
   "metadata": {},
   "outputs": [],
   "source": [
    "table(rowSums(grid))"
   ]
  },
  {
   "cell_type": "markdown",
   "metadata": {},
   "source": [
    "#### (c) Create a table displaying the probabilites of the possible sum totals of the three dice. (This is essentially a table displaying the probability mass function of the random variable $X$, where $X$ is defined as the sum of the values of the three dice rolled.) See ${\\tt prop.table()}$."
   ]
  },
  {
   "cell_type": "code",
   "execution_count": null,
   "metadata": {},
   "outputs": [],
   "source": [
    "prop.table(rowSums(grid))"
   ]
  },
  {
   "cell_type": "markdown",
   "metadata": {},
   "source": [
    "#### (d) Create a table displaying the cumulative sum of the probabilities as the sum of the rolls increases. (This is essentialy the cumulative distribution function of the r.v. $X$.)"
   ]
  },
  {
   "cell_type": "code",
   "execution_count": null,
   "metadata": {},
   "outputs": [],
   "source": [
    "table(rowSums(grid))\n",
    "prop.table(rowSums(grid))\n",
    "pgrid = prop.table(rowSums(grid))\n",
    "range = 1:216\n",
    "p_cum <- 0\n",
    "temp_samp <- c()\n",
    "for (n in range)\n",
    "{\n",
    "  p_cum <- p_cum+pgrid[n]\n",
    "  temp_samp <- c(temp_samp, p_cum)\n",
    "}\n"
   ]
  },
  {
   "cell_type": "markdown",
   "metadata": {},
   "source": [
    "#### (e) Create a plot of the table produced in parts 2(c) and 2(d) using ${\\tt plot()}$. (That is, plot the pmf and cdf of $X$.)"
   ]
  },
  {
   "cell_type": "code",
   "execution_count": null,
   "metadata": {},
   "outputs": [],
   "source": [
    "plot(range,rowSums(grid),main=\"PMF\",xlab=\"Roll Combination Number\", ylab=\"Sum of Dice\", pch=19)\n",
    "plot(range,temp_samp,main=\"CDF\",xlab=\"Roll Combination Number\", ylab=\"Cumulative Probability\", pch=19)"
   ]
  },
  {
   "cell_type": "markdown",
   "metadata": {},
   "source": [
    "#### (f) Re-do parts 2(a)-(e) for the case where we have a fair 3-sided die, a fair 4-sided die and a fair 5-sided die. As before, we sum the face value of the die after each roll. "
   ]
  },
  {
   "cell_type": "code",
   "execution_count": null,
   "metadata": {},
   "outputs": [],
   "source": [
    "for (i in 3:5) {\n",
    "  grid = expand.grid(die1 = 1:i, die2 = 1:i, die3 = 1:i)\n",
    "  print(grid)\n",
    "  table(rowSums(grid))\n",
    "  prop.table(rowSums(grid))\n",
    "  pgrid = prop.table(rowSums(grid))\n",
    "  range = 1:(i*i*i)\n",
    "  p_cum <- 0\n",
    "  temp_samp <- c()\n",
    "  for (n in range)\n",
    "  {\n",
    "    p_cum <- p_cum+pgrid[n]\n",
    "    temp_samp <- c(temp_samp, p_cum)\n",
    "  }\n",
    "  plot(range,rowSums(grid),main=\"PMF\",xlab=\"Roll Combination Number\", ylab=\"Sum of Dice\", pch=19)\n",
    "  plot(range,temp_samp,main=\"CDF\",xlab=\"Roll Combination Number\", ylab=\"Cumulative Probability\", pch=19)\n",
    "}\n"
   ]
  }
 ],
 "metadata": {
  "kernelspec": {
   "display_name": "R",
   "language": "R",
   "name": "ir"
  },
  "language_info": {
   "codemirror_mode": "r",
   "file_extension": ".r",
   "mimetype": "text/x-r-source",
   "name": "R",
   "pygments_lexer": "r",
   "version": "3.6.1"
  }
 },
 "nbformat": 4,
 "nbformat_minor": 2
}
