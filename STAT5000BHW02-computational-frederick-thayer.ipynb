{
 "cells": [
  {
   "cell_type": "markdown",
   "metadata": {},
   "source": [
    "# Homework #2 \n",
    "\n",
    "All computations should be done in this notebook using the R kernel. This is your first opportunity to get familiar with R outside of class, so please take your time on the problems that require it. Working in small groups is allowed, but it is important that you make an effort to master the material and hand in your own work.\n",
    "\n",
    "#### You will be required to submit this notebook, fully compiled with your solutions, as an Jupyter Notebook and as an HTML file to Canvas by 11:59pm on Thursday, February 6.\n",
    "\n",
    "#### Read and sign the Honor Code Pledge below:\n",
    "\n",
    "**Honor Code Pledge: _On my honor, as a University of Colorado Boulder student, I have neither given nor received unauthorized assistance on this work._**"
   ]
  },
  {
   "cell_type": "markdown",
   "metadata": {},
   "source": [
    "Frederick Mckinley Thayer"
   ]
  },
  {
   "cell_type": "markdown",
   "metadata": {},
   "source": [
    "## Computational Problems"
   ]
  },
  {
   "cell_type": "markdown",
   "metadata": {},
   "source": [
    "\n",
    "## Problem 1\n",
    "\n",
    "Some claim that the final hours aboard the Titanic were marked by class warfare; other claim it was characterized by male chivalry.  Load the titanic data frame into R. This dataset contains information pertaining to class status ${\\tt pclass}$, survival of passengers ${\\tt survived}$, and gender ${\\tt sex}$, among others.  \n",
    "\n",
    "You can learn more about the data here: https://cran.r-project.org/web/packages/PASWR2/PASWR2.pdf\n",
    "\n",
    "\n"
   ]
  },
  {
   "cell_type": "markdown",
   "metadata": {},
   "source": [
    "#### (a) First load the data. Load either the file ${\\tt titanic3.csv}$ or ${\\tt titanic3.txt}$ which can be found in the HW02 folder on Canvas. (Download the file to your computer first.)"
   ]
  },
  {
   "cell_type": "code",
   "execution_count": null,
   "metadata": {},
   "outputs": [],
   "source": [
    "dat = read.csv(\"/Users/frederickthayer/documents/nlp/titanic3-Sp19vR.csv\")"
   ]
  },
  {
   "cell_type": "markdown",
   "metadata": {},
   "source": [
    "#### (b) Create a table cross listing the number of survivors and non-survivors by passenger class. Use the ${\\tt table()}$ command to do this. (The rows of the table should be the passenger class.)"
   ]
  },
  {
   "cell_type": "code",
   "execution_count": null,
   "metadata": {},
   "outputs": [],
   "source": [
    "tab <- table(dat$pclass,dat$survived)\n",
    "#      0   1\n",
    "#  1 123 200\n",
    "#  2 158 119\n",
    "#  3 528 181"
   ]
  },
  {
   "cell_type": "markdown",
   "metadata": {},
   "source": [
    "#### (c) Use the table to determine the fraction of survivors from each passenger class. The command ${\\tt rowSums()}$ may be useful."
   ]
  },
  {
   "cell_type": "code",
   "execution_count": null,
   "metadata": {},
   "outputs": [],
   "source": [
    "tab[,2]/rowSums(tab)\n",
    "#        1         2         3 \n",
    "#0.6191950 0.4296029 0.2552891 "
   ]
  },
  {
   "cell_type": "markdown",
   "metadata": {},
   "source": [
    "#### (d) Compute the fraction of male survivors who were in first class. Do this by determining the total number of men in first class and the total number of men in first who survived and find the ratio. (Logical indexing may be helpful here.)"
   ]
  },
  {
   "cell_type": "code",
   "execution_count": null,
   "metadata": {},
   "outputs": [],
   "source": [
    "table(dat$survived,dat$sex,dat$pclass)[2,2,1]/table(dat$pclass,dat$sex)[1,2]\n",
    "#0.3407821"
   ]
  },
  {
   "cell_type": "markdown",
   "metadata": {},
   "source": [
    "#### (e) Compute the fraction of survivors for the remaining classes and genders. Did men in the first class or women in the third class have a higher survival rate?"
   ]
  },
  {
   "cell_type": "code",
   "execution_count": null,
   "metadata": {},
   "outputs": [],
   "source": [
    "table(dat$survived,dat$sex,dat$pclass)[2,2,2]/table(dat$pclass,dat$sex)[2,2]\n",
    "table(dat$survived,dat$sex,dat$pclass)[2,2,3]/table(dat$pclass,dat$sex)[3,2]\n",
    "table(dat$survived,dat$sex,dat$pclass)[2,1,1]/table(dat$pclass,dat$sex)[1,1]\n",
    "table(dat$survived,dat$sex,dat$pclass)[2,1,2]/table(dat$pclass,dat$sex)[2,1]\n",
    "table(dat$survived,dat$sex,dat$pclass)[2,1,3]/table(dat$pclass,dat$sex)[3,1]\n",
    "#women in 3rd class had a higher survival rate (49% vs 34%)"
   ]
  },
  {
   "cell_type": "markdown",
   "metadata": {},
   "source": [
    "#### (f) Display a frequency histogram of ${\\tt age}$. How would you characterize the distribution of ${\\tt age}$ (e.g., is it symmetric, positively/negatively skewed, unimodal, multimodal)?"
   ]
  },
  {
   "cell_type": "code",
   "execution_count": null,
   "metadata": {},
   "outputs": [],
   "source": [
    "par(mar=c(1,1,1,1))\n",
    "hist(dat$age, main=\"Frequency Histogram of Age\",freq=TRUE)\n",
    "#negatively skewed & bimodal"
   ]
  },
  {
   "cell_type": "markdown",
   "metadata": {},
   "source": []
  },
  {
   "cell_type": "markdown",
   "metadata": {},
   "source": [
    "#### (g) Find the mean, median, st. dev. and range for females who survived and for for females who did not survive. Were the median and mean ages for females who survived higher or lower than for females who did not survive? Beware of missing data in your data set! See this link on [missing data](https://thomasleeper.com/Rcourse/Tutorials/NAhandling.html) for further information."
   ]
  },
  {
   "cell_type": "code",
   "execution_count": null,
   "metadata": {},
   "outputs": [],
   "source": [
    "fem_surv <- c()\n",
    "i=1\n",
    "for (i in 1:1309) {if (dat[i,2]=='1') {if (dat[i,4]=='female') {fem_surv <- c(fem_surv, dat[i,5])}}}\n",
    "fem_died <- c()\n",
    "i=1\n",
    "for (i in 1:1309) {if (dat[i,2]=='0') {if (dat[i,4]=='female') {fem_died <- c(fem_died, dat[i,5])}}}\n",
    "mean(fem_surv, na.rm = TRUE)\n",
    "median(fem_surv, na.rm = TRUE)\n",
    "sqrt(var(fem_surv, na.rm = TRUE))\n",
    "range(fem_surv, na.rm = TRUE)\n",
    "mean(fem_died, na.rm = TRUE)\n",
    "median(fem_died, na.rm = TRUE)\n",
    "sqrt(var(fem_died, na.rm = TRUE))\n",
    "range(fem_died, na.rm = TRUE)\n",
    "#both the mean and median were higher for females who survived (29.8 & 28.5 to 25.3 & 24.5, respectively)\n"
   ]
  },
  {
   "cell_type": "markdown",
   "metadata": {},
   "source": []
  },
  {
   "cell_type": "markdown",
   "metadata": {},
   "source": [
    "#### (h) Were the median and mean ages for males who survived higher or lower than for males who did not survive? Repeat part (g) but for the males."
   ]
  },
  {
   "cell_type": "code",
   "execution_count": null,
   "metadata": {},
   "outputs": [],
   "source": [
    "mal_surv <- c()\n",
    "i=1\n",
    "for (i in 1:1309) {if (dat[i,2]=='1') {if (dat[i,4]=='male') {mal_surv <- c(mal_surv, dat[i,5])}}}\n",
    "mal_died <- c()\n",
    "i=1\n",
    "for (i in 1:1309) {if (dat[i,2]=='0') {if (dat[i,4]=='male') {mal_died <- c(mal_died, dat[i,5])}}}\n",
    "mean(mal_surv, na.rm = TRUE)\n",
    "median(mal_surv, na.rm = TRUE)\n",
    "sqrt(var(mal_surv, na.rm = TRUE))\n",
    "range(mal_surv, na.rm = TRUE)\n",
    "mean(mal_died, na.rm = TRUE)\n",
    "median(mal_died, na.rm = TRUE)\n",
    "sqrt(var(mal_died, na.rm = TRUE))\n",
    "range(mal_died, na.rm = TRUE)\n",
    "#both the mean and median were lower for males who survived (27.0 & 27.0 to 31.5 & 29.0, respectively)\n"
   ]
  },
  {
   "cell_type": "markdown",
   "metadata": {},
   "source": []
  },
  {
   "cell_type": "markdown",
   "metadata": {},
   "source": [
    "#### (i) What was the age of the youngest female in the first class who survived?"
   ]
  },
  {
   "cell_type": "code",
   "execution_count": null,
   "metadata": {},
   "outputs": [],
   "source": [
    "fem_1_surv <- c()\n",
    "i=1\n",
    "for (i in 1:1309) {if (dat[i,2]=='0') {if (dat[i,4]=='male') {if (dat[i,1]=='1') {fem_1_surv <- c(fem_1_surv, dat[i,5])}}}}\n",
    "min(fem_1_surv, na.rm = TRUE)\n",
    "#17"
   ]
  },
  {
   "cell_type": "markdown",
   "metadata": {},
   "source": [
    "#### (j) Do the data suggest that the final hours aboard the Titanic were characterized by class warfare, male chivalry, some combination of both, or neither? Justify your answer based on computations above, or based on other explorations of the data."
   ]
  },
  {
   "attachments": {},
   "cell_type": "markdown",
   "metadata": {
    "collapsed": true
   },
   "source": [
    "The data suggests that the final hours likely correlated with class and gender- although the exact behavior nature of causation does not necessarily follow form the analysis. Because there was a difference in survival rates between classes and between genders, class warfare and male chivalry could have played a role in this disparity. However, we should be careful with jumping to a sociological conclusion from an analysis of correlation.\n"
   ]
  },
  {
   "cell_type": "markdown",
   "metadata": {},
   "source": [
    "## Problem 2\n",
    "\n",
    "#### (a) We will conduct a simulation in ${\\tt R}$ to numerically illustrate the results from theoretical question 3 (a). First generate $n=100$ data points randomly selected from the interval $(0,50)$ using the ${\\tt runif()}$ command."
   ]
  },
  {
   "cell_type": "code",
   "execution_count": null,
   "metadata": {},
   "outputs": [],
   "source": [
    "rand = runif(100, min = 0, max = 50)"
   ]
  },
  {
   "cell_type": "markdown",
   "metadata": {},
   "source": [
    "#### (b) Now add a new data point to the original dataset, say $x_{101}=40$. Now calculate the mean of the old data set, the new data set and then show that quantities you calculated in theoretical question 3(a) are equal."
   ]
  },
  {
   "cell_type": "code",
   "execution_count": null,
   "metadata": {},
   "outputs": [],
   "source": [
    "rand = c(rand, 40)\n",
    "rand2 = c(rand, 40)\n",
    "mean(rand)\n",
    "mean(rand2)\n",
    "if ((40-mean(rand))/101+mean(rand) == mean(rand2)) {print(\"equal\")} else if ((40-mean(rand))/101+mean(rand) != mean(rand2)){print(\"not equal\")}\n",
    "# \"equal\""
   ]
  },
  {
   "cell_type": "markdown",
   "metadata": {},
   "source": [
    "#### (c) With regards to the variance of the old and new data set, it can be shown that   \n",
    "$$\n",
    "s_{n+1}^2 = \\frac{(n-1)}{n}s_{n}^2 +  \\frac{1}{n+1}(x_{n+1} - \\bar{x}_n)^2\n",
    "$$\n",
    "\n",
    "#### where $s_{n}^2$ is the variance of the old data set and $s_{n+1}^2$ is the variance of the new data set. Verify this result computationally with the old and new data sets from part (b)."
   ]
  },
  {
   "cell_type": "code",
   "execution_count": null,
   "metadata": {},
   "outputs": [],
   "source": [
    "if (var(rand2)**2 == ((100-1)*(var(rand)**2)/100)+(((40-mean(rand))**2)/101)) {print(\"TRUE\")}"
   ]
  },
  {
   "cell_type": "markdown",
   "metadata": {},
   "source": [
    "#### (d) Use ${\\tt runif()}$ to generate $n=100$ data points from the interval $(0,50)$ and then determine the 5% trimmed mean and 50% trimmed mean, see help page for ${\\tt mean()}$ regarding trimmed means. Compare with the median."
   ]
  },
  {
   "cell_type": "code",
   "execution_count": null,
   "metadata": {},
   "outputs": [],
   "source": [
    "rand3 = runif(100, min = 0, max = 50)\n",
    "mean(rand3, trim = 0.05)\n",
    "mean(rand3, trim = 0.5)\n",
    "median(rand3)\n",
    "# 24.9928\n",
    "# 24.63547\n",
    "# 24.63547"
   ]
  },
  {
   "cell_type": "markdown",
   "metadata": {},
   "source": [
    "The median is the same as the 50% trimmed mean."
   ]
  },
  {
   "cell_type": "markdown",
   "metadata": {},
   "source": [
    "## Problem 3\n",
    "\n",
    "#### (a) Load the chocolate.csv data into R (perhaps using the ${\\tt read.csv()}$ function, download the file to your computer from Canvas). Print a summary of the data using ${\\tt summary()}$.\n"
   ]
  },
  {
   "cell_type": "code",
   "execution_count": null,
   "metadata": {},
   "outputs": [],
   "source": [
    "#change the directory below as necessary to load the data from your computer...\n",
    "choc = read.csv(paste(\"~/Documents/files/Statistics/[4570]/\",\n",
    "                          \"/hw02/[computational]/chocolate.csv\", sep = \"\"))\n",
    "\n"
   ]
  },
  {
   "cell_type": "markdown",
   "metadata": {},
   "source": [
    "#### (b) Which variables are stored as factors, and which are stored as numeric? The function ${\\tt class()}$ may help. (Note that ${\\tt sapply()}$ can be used to apply a function to an entire vector or matrix).\n"
   ]
  },
  {
   "cell_type": "code",
   "execution_count": null,
   "metadata": {},
   "outputs": [],
   "source": []
  },
  {
   "cell_type": "markdown",
   "metadata": {},
   "source": [
    "#### (c) Change the variable names to: ${\\tt company, sorigin, ref, date, cocoa, location, rating, type, borigin}$."
   ]
  },
  {
   "cell_type": "code",
   "execution_count": null,
   "metadata": {},
   "outputs": [],
   "source": []
  },
  {
   "cell_type": "markdown",
   "metadata": {},
   "source": [
    "#### (d) Create a new data frame with just: ${\\tt company, cocoa, location, rating}$. Use this data frame for all remaining questions. (Preview your data frame with the ${\\tt head()}$ command.)"
   ]
  },
  {
   "cell_type": "code",
   "execution_count": null,
   "metadata": {},
   "outputs": [],
   "source": []
  },
  {
   "cell_type": "markdown",
   "metadata": {},
   "source": [
    "#### (e) What happens when the command ${\\tt subset(x, rating== min(rating))}$ (where ${\\tt x}$ is the name of the data frame created in part (d) above) is executed?"
   ]
  },
  {
   "cell_type": "code",
   "execution_count": null,
   "metadata": {},
   "outputs": [],
   "source": []
  },
  {
   "cell_type": "markdown",
   "metadata": {},
   "source": []
  },
  {
   "cell_type": "markdown",
   "metadata": {},
   "source": [
    "#### (f) Which company makes the highest rated chocolate bar? The lowest?"
   ]
  },
  {
   "cell_type": "code",
   "execution_count": null,
   "metadata": {},
   "outputs": [],
   "source": []
  },
  {
   "cell_type": "markdown",
   "metadata": {},
   "source": []
  }
 ],
 "metadata": {
  "kernelspec": {
   "display_name": "R",
   "language": "R",
   "name": "ir"
  },
  "language_info": {
   "codemirror_mode": "r",
   "file_extension": ".r",
   "mimetype": "text/x-r-source",
   "name": "R",
   "pygments_lexer": "r",
   "version": "3.6.1"
  }
 },
 "nbformat": 4,
 "nbformat_minor": 2
}
