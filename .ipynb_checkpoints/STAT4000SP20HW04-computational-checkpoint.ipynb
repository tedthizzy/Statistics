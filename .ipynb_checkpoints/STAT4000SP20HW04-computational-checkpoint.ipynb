{
 "cells": [
  {
   "cell_type": "markdown",
   "metadata": {},
   "source": [
    "# Homework #4: Computational Questions\n",
    "\n",
    "All computations should be done in this notebook using the R kernel. Working in small groups is allowed, but it is important that you make an effort to master the material and hand in your own work.\n",
    "\n",
    "#### You will be required to submit this notebook, fully compiled with your solutions, as an Jupyter Notebook and as an HTML file to Canvas by 11:59pm on Thursday, February 27.\n",
    "\n",
    "#### Read and sign the Honor Code Pledge below:\n",
    "\n",
    "**Honor Code Pledge: _On my honor, as a University of Colorado Boulder student, I have neither given nor received unauthorized assistance on this work._**"
   ]
  },
  {
   "cell_type": "markdown",
   "metadata": {},
   "source": [
    "Frederick Thayer"
   ]
  },
  {
   "cell_type": "markdown",
   "metadata": {},
   "source": [
    "## Problem 1\n",
    "\n",
    "Let $X$ be the leading digit of a randomly selected number from a large accounting ledger. So, for example, if we randomly draw the number $\\$20,695$, then $X = 2$. There is empirical evidence that suggests that \"naturally occurring\" numbers from large data sets follow a distribution defined by:\n",
    "\n",
    "\\begin{align*}\n",
    "f(x) = \\log_{10}\\bigg(\\frac{x+1}{x}\\bigg), \\,\\,\\,\\, x = 1,2,...,9.\n",
    "\\end{align*} \n",
    "\n",
    "People who make up numbers to commit accounting fraud tend to give $X$ a (discrete) uniform distribution, i.e. following a distribution given by: \n",
    "\n",
    "\\begin{align*}\n",
    "p(x)=P(X = x) = 1/9\n",
    "\\textrm{ for $x \\in \\{1,...,9\\}$.}\n",
    "\\end{align*}\n",
    "\n",
    "In this problem you will decide whether the taxable incomes for individuals in 1978, \n",
    "contained in the dataset ${\\tt tax-SP19-R.csv}$, is fraudulent"
   ]
  },
  {
   "cell_type": "markdown",
   "metadata": {},
   "source": [
    "#### (a) Load the data from either ${\\tt tax-SP19-R.csv}$ or ${\\tt tax-SP19-TAB.txt}$."
   ]
  },
  {
   "cell_type": "code",
   "execution_count": 2,
   "metadata": {},
   "outputs": [],
   "source": [
    "dat = read.csv(\"/Users/frederickthayer/documents/nlp/statgit/taxes_1978.csv\", header = TRUE)"
   ]
  },
  {
   "cell_type": "markdown",
   "metadata": {},
   "source": [
    "#### (b) Put the data from the data frame in the column titled ${\\tt taxIncomes}$ into a vector and then extract the leading digits, use the ${\\tt substr()}$ command, [see this link for details](http://rfunction.com/archives/1692). "
   ]
  },
  {
   "cell_type": "code",
   "execution_count": 5,
   "metadata": {},
   "outputs": [],
   "source": [
    "datvec <- c(dat[,1])\n",
    "leadvec <- substr(datvec,1,1)"
   ]
  },
  {
   "cell_type": "markdown",
   "metadata": {},
   "source": [
    "#### (c) Create a _density histogram_ of the leading digits. (NOTE: The original data was missing some incomes and listed those as ${\\tt 0}$, be sure to first remove any ${\\tt 0}$'s from your data!! Do this with logical indexing. Also note that the vector of leading digits should be of the class \"numeric\" (i.e. see the ${\\tt class()}$ command) so you may also need the ${\\tt as.numeric()}$ command.)"
   ]
  },
  {
   "cell_type": "code",
   "execution_count": null,
   "metadata": {},
   "outputs": [],
   "source": [
    "leadvec2 <- as.numeric(leadvec[leadvec != 0])"
   ]
  },
  {
   "cell_type": "markdown",
   "metadata": {},
   "source": [
    "#### (d) Re-plot the histogram from part (c) but this time overlay plots of the curves $f(x)$ and $p(x)$ given above in the problem description. Use ${\\tt abline()}$ to plot $p(x)$ and use [${\\tt curve()}$](https://thomasleeper.com/Rcourse/Tutorials/curve.html)  to plot $f(x)$."
   ]
  },
  {
   "cell_type": "code",
   "execution_count": null,
   "metadata": {},
   "outputs": [],
   "source": []
  },
  {
   "cell_type": "markdown",
   "metadata": {},
   "source": [
    "#### (e) Comparing the shape of you histogram and the distribution curves, does it appear that the 1978 tax income data is fraudulent? Why or why not."
   ]
  },
  {
   "cell_type": "markdown",
   "metadata": {},
   "source": []
  }
 ],
 "metadata": {
  "kernelspec": {
   "display_name": "R",
   "language": "R",
   "name": "ir"
  },
  "language_info": {
   "codemirror_mode": "r",
   "file_extension": ".r",
   "mimetype": "text/x-r-source",
   "name": "R",
   "pygments_lexer": "r",
   "version": "3.6.2"
  }
 },
 "nbformat": 4,
 "nbformat_minor": 2
}
